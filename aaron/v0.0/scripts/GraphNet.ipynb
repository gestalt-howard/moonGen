{
 "cells": [
  {
   "cell_type": "code",
   "execution_count": null,
   "metadata": {},
   "outputs": [],
   "source": [
    "from __future__ import division\n",
    "from __future__ import print_function\n",
    "\n",
    "import time\n",
    "import argparse\n",
    "import numpy as np\n",
    "\n",
    "import torch\n",
    "import torch.nn.functional as F\n",
    "import torch.optim as optim"
   ]
  },
  {
   "cell_type": "code",
   "execution_count": null,
   "metadata": {},
   "outputs": [],
   "source": [
    "import pickle\n",
    "import pdb\n",
    "import json\n",
    "import numpy as np\n",
    "\n",
    "from utils import *\n",
    "from GCN.GCN import GCN\n",
    "from GAT.GAT import GAT\n",
    "from Dense.Dense import Dense\n",
    "from full_data_process import graphDataProcess\n",
    "from sub_data_process import subGraphProcess\n",
    "\n",
    "from adjacency_functions import *\n",
    "from feature_functions import *\n",
    "from label_functions import *\n",
    "from train_test_functions import *"
   ]
  },
  {
   "cell_type": "code",
   "execution_count": null,
   "metadata": {},
   "outputs": [],
   "source": [
    "def full_graph_process(param_dict, data_dir, full_processed_path, full_redo):\n",
    "    if (not os.path.exists(full_processed_path)) or full_redo:\n",
    "        raw_data_path = param_dict['gen_params']['raw_data_path']\n",
    "        full_names_dict = param_dict['full_names_dict']\n",
    "        full_redo_dict = param_dict['full_redo_dict']\n",
    "        graph_data_obj = graphDataProcess(raw_data_path, data_dir, full_names_dict, full_redo_dict)\n",
    "        graph_data_obj.run_all()\n",
    "        pickle.dump(graph_data_obj, open(full_processed_path,'wb'))\n",
    "    else:\n",
    "        graph_data_obj = pickle.load(open(full_processed_path,'rb'))\n",
    "    return graph_data_obj\n",
    "\n",
    "def sub_graph_process(param_dict, data_path, full_processed_path, sub_processed_path, sub_redo):\n",
    "    if (not os.path.exists(sub_processed_path)) or sub_redo:\n",
    "        sampling_params = param_dict['sampling_params']\n",
    "        sub_names_dict = param_dict['sub_names_dict']\n",
    "        sub_redo_dict = param_dict['sub_redo_dict']\n",
    "        sub_functions_dict = get_func_dict(param_dict['sub_functions_dict'])\n",
    "        subgraph_data_obj = subGraphProcess(full_processed_path, data_path, sub_names_dict, sub_redo_dict, sub_functions_dict, sampling_params)\n",
    "        subgraph_data_obj.run_all()\n",
    "        pickle.dump(subgraph_data_obj, open(sub_processed_path,'wb'))\n",
    "    else:\n",
    "        subgraph_data_obj = pickle.load(open(sub_processed_path,'rb'))\n",
    "    return subgraph_data_obj"
   ]
  },
  {
   "cell_type": "code",
   "execution_count": null,
   "metadata": {},
   "outputs": [],
   "source": [
    "ver = 'v0.1'\n",
    "param_path = '/home/ds-team/aaron/other/MoonBoard/data/train_test/pytorch/graphNet/GraphNet/' + ver + '/params.json'\n",
    "param_dict = json.load(open(param_path,'r'))"
   ]
  },
  {
   "cell_type": "markdown",
   "metadata": {},
   "source": [
    "# Unwrap and set general parameters"
   ]
  },
  {
   "cell_type": "code",
   "execution_count": null,
   "metadata": {},
   "outputs": [],
   "source": [
    "model_type = param_dict['gen_params']['model_type']\n",
    "ver = param_dict['gen_params']['ver']\n",
    "data_dir = param_dict['gen_params']['data_dir']\n",
    "result_dir = param_dict['gen_params']['result_dir']\n",
    "\n",
    "data_path, result_path = set_paths(model_type, ver, data_dir, result_dir)\n",
    "\n",
    "full_processed_name = param_dict['gen_params']['full_processed_name']\n",
    "sub_processed_name = param_dict['gen_params']['sub_processed_name']\n",
    "\n",
    "full_processed_path = data_dir+full_processed_name\n",
    "sub_processed_path = data_path+sub_processed_name\n",
    "\n",
    "full_redo = param_dict['gen_params']['full_redo']\n",
    "sub_redo = param_dict['gen_params']['sub_redo']"
   ]
  },
  {
   "cell_type": "code",
   "execution_count": null,
   "metadata": {},
   "outputs": [],
   "source": [
    "graph_data_obj = full_graph_process(param_dict, data_dir, full_processed_path, full_redo)"
   ]
  },
  {
   "cell_type": "code",
   "execution_count": null,
   "metadata": {},
   "outputs": [],
   "source": [
    "subgraph_data_obj = sub_graph_process(param_dict, data_path, full_processed_path, sub_processed_path, sub_redo)"
   ]
  },
  {
   "cell_type": "code",
   "execution_count": null,
   "metadata": {},
   "outputs": [],
   "source": [
    "split_ratio_dict = param_dict['split_ratio_dict']\n",
    "target_grade = -1\n",
    "features, adj, labels, idx_train, idx_dev, idx_test = sample_and_load_pytorch_data(subgraph_data_obj, split_ratio_dict, result_path, target_grade, sub_redo)"
   ]
  },
  {
   "cell_type": "code",
   "execution_count": null,
   "metadata": {},
   "outputs": [],
   "source": [
    "num_labels = len(list(set(list(np.asarray(labels)))))"
   ]
  },
  {
   "cell_type": "code",
   "execution_count": null,
   "metadata": {},
   "outputs": [],
   "source": [
    "dense_params = param_dict['dense_params']\n",
    "if dense_params:\n",
    "    num_epochs = dense_params['num_epochs']\n",
    "    model = Dense(nfeat=features.shape[1],\n",
    "                nhid_list=dense_params['hidden'],\n",
    "                nclass=num_labels,\n",
    "                dropout=dense_params['dropout'])\n",
    "\n",
    "    optimizer = optim.Adam(model.parameters(),lr=dense_params['lr'], weight_decay=dense_params['weight_decay'])"
   ]
  },
  {
   "cell_type": "code",
   "execution_count": null,
   "metadata": {},
   "outputs": [],
   "source": [
    "gcn_params = param_dict['gcn_params']\n",
    "if gcn_params:\n",
    "    num_epochs = gcn_params['num_epochs']\n",
    "    model = GCN(nfeat=features.shape[1],\n",
    "                nhid_list=gcn_params['hidden'],\n",
    "                nclass=num_labels,\n",
    "                dropout=gcn_params['dropout'])\n",
    "\n",
    "    optimizer = optim.Adam(model.parameters(),lr=gcn_params['lr'], weight_decay=gcn_params['weight_decay'])"
   ]
  },
  {
   "cell_type": "code",
   "execution_count": null,
   "metadata": {},
   "outputs": [],
   "source": [
    "gat_params = param_dict['gat_params']\n",
    "if gat_params['on']:\n",
    "    num_epochs = gat_params['num_epochs']\n",
    "    model = GAT(nfeat=features.shape[1],\n",
    "                nhid=gat_params['hidden'],\n",
    "                nclass=num_labels,\n",
    "                dropout=gat_params['dropout'],\n",
    "                alpha=gat_params['alpha'],\n",
    "                nheads=gat_params['nb_heads'])\n",
    "\n",
    "    optimizer = optim.Adam(model.parameters(),lr=gat_params['lr'], weight_decay=gat_params['weight_decay'])"
   ]
  },
  {
   "cell_type": "code",
   "execution_count": null,
   "metadata": {},
   "outputs": [],
   "source": [
    "model"
   ]
  },
  {
   "cell_type": "code",
   "execution_count": null,
   "metadata": {
    "scrolled": true
   },
   "outputs": [],
   "source": [
    "train_dict = {}\n",
    "train_dict['optimizer'] = optimizer\n",
    "train_dict['features'] = features\n",
    "train_dict['adj'] = adj\n",
    "train_dict['labels'] = labels\n",
    "train_dict['idx_train'] = idx_train\n",
    "train_dict['idx_val'] = idx_dev\n",
    "train_dict['num_epochs'] = num_epochs\n",
    "model = run_train(model, train_dict)"
   ]
  },
  {
   "cell_type": "code",
   "execution_count": null,
   "metadata": {},
   "outputs": [],
   "source": [
    "# Testing\n",
    "test_dict = {}\n",
    "test_dict['features'] = features\n",
    "test_dict['adj'] = adj\n",
    "test_dict['labels'] = labels\n",
    "test_dict['idx_test'] = idx_test\n",
    "test(model, test_dict)"
   ]
  },
  {
   "cell_type": "code",
   "execution_count": null,
   "metadata": {},
   "outputs": [],
   "source": [
    "model_name = 'model.pickle'\n",
    "pickle.dump(model, open(result_path+model_name,'wb'))"
   ]
  },
  {
   "cell_type": "code",
   "execution_count": null,
   "metadata": {},
   "outputs": [],
   "source": []
  },
  {
   "cell_type": "code",
   "execution_count": null,
   "metadata": {},
   "outputs": [],
   "source": []
  }
 ],
 "metadata": {
  "kernelspec": {
   "display_name": "Python 3",
   "language": "python",
   "name": "python3"
  },
  "language_info": {
   "codemirror_mode": {
    "name": "ipython",
    "version": 3
   },
   "file_extension": ".py",
   "mimetype": "text/x-python",
   "name": "python",
   "nbconvert_exporter": "python",
   "pygments_lexer": "ipython3",
   "version": "3.6.8"
  }
 },
 "nbformat": 4,
 "nbformat_minor": 2
}
