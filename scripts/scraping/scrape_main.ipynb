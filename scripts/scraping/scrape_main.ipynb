{
 "cells": [
  {
   "cell_type": "markdown",
   "metadata": {},
   "source": [
    "# Scraping MoonBoard Problems\n",
    "Scrapes MoonBoard problems from the MoonBoard site using an automated clicking routine defined via Selenium.\n",
    "\n",
    "In the process of scraping, four (4) intermediate files will be produced:\n",
    "1. problems_dict.pickle\n",
    "2. failed_uids_dict.pickle\n",
    "3. problems_dict_holds.pickle\n",
    "4. moonboard_data.pickle\n",
    "\n",
    "These items can be organized under the several phases of data mining:\n",
    "\n",
    "**Phase 1: Get all URLs leading to specific problems**\n",
    "\n",
    "*Produces: Item(s) 1*\n",
    "* Accessing all problems in the MoonBoard problems repository requires clicking through every page on their site \n",
    "* On each page, a set of problems are shown as a scrollable UI element\n",
    "* Each problem within this scrollable UI element has a URL leading to a unique webpage that displays a problem and related metadata\n",
    "\n",
    "**Phase 2: Accessing each problem's page and extract metadata**\n",
    "\n",
    "*Produces: Item(s) 2, 3*\n",
    "* After Phase 1, we have a dictionary that maps each unique problem to its corresponding webpage via URL\n",
    "* We access each unique webpage and extract metadata into **Item (3)**\n",
    "* Every unsuccessful access attempt is stored in **Item (2)**\n",
    "\n",
    "**Phase 3: Format schema for neural network**\n",
    "\n",
    "*Produces: Item(s) 4*\n",
    "* After Phase 2, we have a dictionary of MoonBoard problems and associated metadata\n",
    "* Phase 3 processes this scraped data into a schema that is consistent and suitable for input to neural network training"
   ]
  },
  {
   "cell_type": "markdown",
   "metadata": {},
   "source": [
    "## Setup:"
   ]
  },
  {
   "cell_type": "code",
   "execution_count": null,
   "metadata": {},
   "outputs": [],
   "source": [
    "import shutil\n",
    "\n",
    "from moonboard_helper import *"
   ]
  },
  {
   "cell_type": "code",
   "execution_count": null,
   "metadata": {},
   "outputs": [],
   "source": [
    "# Load credentials\n",
    "with open('./credentials.txt') as f:\n",
    "    flines = f.readlines()\n",
    "\n",
    "cred_dict = {s.split('-')[0].strip() : s.split('-')[1].strip() for s in flines}\n",
    "print(cred_dict)"
   ]
  },
  {
   "cell_type": "code",
   "execution_count": null,
   "metadata": {},
   "outputs": [],
   "source": [
    "username = cred_dict['username']\n",
    "password = cred_dict['password']\n",
    "driver_path = cred_dict['driver_path']\n",
    "save_path = cred_dict['save_path']\n",
    "save_path_holds = cred_dict['save_path_holds']\n",
    "save_path_failed = cred_dict['save_path_failed']\n",
    "save_path_final = cred_dict['save_path_final']\n",
    "\n",
    "moonboard_url = 'https://moonboard.com/'"
   ]
  },
  {
   "cell_type": "markdown",
   "metadata": {},
   "source": [
    "## Phase 1: Preliminary Scraping (URLs)"
   ]
  },
  {
   "cell_type": "code",
   "execution_count": null,
   "metadata": {},
   "outputs": [],
   "source": [
    "# Load browser and login to MoonBoard\n",
    "browser = load_browser(driver_path)\n",
    "loginMoonBoard(browser, moonboard_url, username, password)\n",
    "time.sleep(2)"
   ]
  },
  {
   "cell_type": "code",
   "execution_count": null,
   "metadata": {},
   "outputs": [],
   "source": [
    "# Get problems view\n",
    "click_view_problems(browser)\n",
    "click_holdsetup(browser)"
   ]
  },
  {
   "cell_type": "code",
   "execution_count": null,
   "metadata": {
    "scrolled": true
   },
   "outputs": [],
   "source": [
    "# Process all pages (num_pages == -1 gets all pages)\n",
    "if not os.path.exists(save_path):\n",
    "    problems_dict = process_all_pages(browser, save_path, num_pages=1)\n",
    "    save_pickle(problems_dict, save_path)\n",
    "else:\n",
    "    problems_dict = load_pickle(save_path)"
   ]
  },
  {
   "cell_type": "code",
   "execution_count": null,
   "metadata": {},
   "outputs": [],
   "source": [
    "# Number of scraped problems\n",
    "print('Number of problems:', len(problems_dict))"
   ]
  },
  {
   "cell_type": "markdown",
   "metadata": {},
   "source": [
    "## Phase 2: Secondary Scraping (Problems)"
   ]
  },
  {
   "cell_type": "code",
   "execution_count": null,
   "metadata": {},
   "outputs": [],
   "source": [
    "# Copy problem dict\n",
    "if not os.path.exists(save_path_holds):\n",
    "    shutil.copyfile(save_path, save_path_holds)\n",
    "\n",
    "holds_dict = load_pickle(save_path_holds)"
   ]
  },
  {
   "cell_type": "code",
   "execution_count": null,
   "metadata": {},
   "outputs": [],
   "source": [
    "# Failed uids\n",
    "if not os.path.exists(save_path_failed):\n",
    "    print('Creating failed uids dictionary...')\n",
    "    failed_uids_dict = {}\n",
    "    save_pickle(failed_uids_dict, save_path_failed)\n",
    "else:\n",
    "    print('Loading failed uids dictionary...')\n",
    "    failed_uids_dict = load_pickle(save_path_failed)\n",
    "    print('Number of failed Uids:', len(failed_uids_dict))"
   ]
  },
  {
   "cell_type": "code",
   "execution_count": null,
   "metadata": {
    "scrolled": true
   },
   "outputs": [],
   "source": [
    "# Scrape specific problems\n",
    "holds_dict, failed_uids_dict = scrape_problems(\n",
    "    browser, \n",
    "    holds_dict, \n",
    "    save_path_holds, \n",
    "    failed_uids_dict, \n",
    "    save_path_failed\n",
    ")"
   ]
  },
  {
   "cell_type": "code",
   "execution_count": null,
   "metadata": {},
   "outputs": [],
   "source": [
    "# Close browser\n",
    "browser.close()"
   ]
  },
  {
   "cell_type": "markdown",
   "metadata": {},
   "source": [
    "## Phase 3: Schema Organization"
   ]
  },
  {
   "cell_type": "code",
   "execution_count": null,
   "metadata": {},
   "outputs": [],
   "source": [
    "# Format mined problems\n",
    "final_dict = cast_to_basic_schema(holds_dict)\n",
    "save_pickle(final_dict, save_path_final)"
   ]
  },
  {
   "cell_type": "code",
   "execution_count": null,
   "metadata": {},
   "outputs": [],
   "source": []
  }
 ],
 "metadata": {
  "kernelspec": {
   "display_name": "Python 3",
   "language": "python",
   "name": "python3"
  },
  "language_info": {
   "codemirror_mode": {
    "name": "ipython",
    "version": 3
   },
   "file_extension": ".py",
   "mimetype": "text/x-python",
   "name": "python",
   "nbconvert_exporter": "python",
   "pygments_lexer": "ipython3",
   "version": "3.6.8"
  }
 },
 "nbformat": 4,
 "nbformat_minor": 4
}
