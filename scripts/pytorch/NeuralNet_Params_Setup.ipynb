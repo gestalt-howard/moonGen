{
 "cells": [
  {
   "cell_type": "markdown",
   "metadata": {},
   "source": [
    "# Parameter Setup\n",
    "\n",
    "This notebook sets up the parameters necessary for running through the **NeuralNet** notebook. The parameters that are required to be changed from each run are:\n",
    "\n",
    "* `model_type`\n",
    "* `ver`\n",
    "* `sampling_params['num_per_core']`\n",
    "* `sub_functions_dict`\n",
    "* Parameters for one (1) of three (3) model choices:\n",
    "    * Dense\n",
    "    * Graph Convolutional Network"
   ]
  },
  {
   "cell_type": "code",
   "execution_count": null,
   "metadata": {},
   "outputs": [],
   "source": [
    "import sys\n",
    "sys.path.append('C:/Users/chetai/Documents/Projects/moonGen/')\n",
    "\n",
    "import os\n",
    "import json\n",
    "import numpy as np\n",
    "\n",
    "from scripts.pytorch.utils.utils import *\n",
    "\n",
    "from scripts.pytorch.utils.label_functions import *\n",
    "from scripts.pytorch.utils.feature_functions import *\n",
    "from scripts.pytorch.utils.adjacency_functions import *"
   ]
  },
  {
   "cell_type": "code",
   "execution_count": null,
   "metadata": {},
   "outputs": [],
   "source": [
    "# ----------------------------------------------------------------------------------------------------------------------\n",
    "# Setup an experiment\n",
    "# ----------------------------------------------------------------------------------------------------------------------\n",
    "model_type = 'GCN'\n",
    "ver = 'v0'\n",
    "\n",
    "# Main storage locations\n",
    "data_dir = 'C:/Users/chetai/Desktop/moonboard_data/'\n",
    "result_dir = 'C:/Users/chetai/Desktop/moonboard_results/'\n",
    "\n",
    "# Experiment storage locations\n",
    "data_subpath = make_sub_dirs(model_type, ver, data_dir)\n",
    "result_subpath = make_sub_dirs(model_type, ver, result_dir)\n",
    "    \n",
    "save_path = data_subpath + 'params.json'"
   ]
  },
  {
   "cell_type": "markdown",
   "metadata": {},
   "source": [
    "## General Parameters"
   ]
  },
  {
   "cell_type": "code",
   "execution_count": null,
   "metadata": {},
   "outputs": [],
   "source": [
    "gen_params = {}\n",
    "gen_params['model_type'] = model_type  # Description like (GCN, Dense, etc...)\n",
    "gen_params['ver'] = ver\n",
    "gen_params['full_processed_name'] = 'full_processed.pickle'\n",
    "gen_params['sub_processed_name'] = 'sub_processed.pickle'\n",
    "gen_params['raw_data_path'] = 'C:/Users/chetai/Desktop/moonboard_data.pickle'\n",
    "\n",
    "gen_params['data_dir'] = data_dir\n",
    "gen_params['data_path'] = data_subpath\n",
    "gen_params['result_path'] = result_subpath\n",
    "\n",
    "gen_params['full_redo'] = False\n",
    "gen_params['sub_redo'] = False"
   ]
  },
  {
   "cell_type": "markdown",
   "metadata": {},
   "source": [
    "## Names of Intermediate Files for Processing of Full Set"
   ]
  },
  {
   "cell_type": "code",
   "execution_count": null,
   "metadata": {},
   "outputs": [],
   "source": [
    "full_names_dict = {}\n",
    "full_names_dict['node_map_name'] = 'node_mapping.pickle'\n",
    "full_names_dict['holds_names_name'] = 'holds_names.pickle'\n",
    "full_names_dict['problems_names_name'] = 'problems_names.pickle'\n",
    "full_names_dict['holds_mat_name'] = 'holds_mat.pickle'\n",
    "full_names_dict['pmi_name'] = 'pmi.pickle'\n",
    "full_names_dict['tfidf_name'] = 'tfidf.pickle'"
   ]
  },
  {
   "cell_type": "markdown",
   "metadata": {},
   "source": [
    "## Settings for Re-processing the Intermediate Files of Full Set"
   ]
  },
  {
   "cell_type": "code",
   "execution_count": null,
   "metadata": {},
   "outputs": [],
   "source": [
    "full_redo_dict = {}\n",
    "full_redo_dict['mapping_redo'] = False\n",
    "full_redo_dict['adjacency_redo'] = False\n",
    "full_redo_dict['tfidf_redo'] = False"
   ]
  },
  {
   "cell_type": "markdown",
   "metadata": {},
   "source": [
    "## Names of Intermediate Files for Processing of Subset"
   ]
  },
  {
   "cell_type": "code",
   "execution_count": null,
   "metadata": {},
   "outputs": [],
   "source": [
    "sub_names_dict = {}\n",
    "sub_names_dict['core_nodes_name'] = 'core_nodes.pickle'\n",
    "sub_names_dict['features_name'] = 'sampled_features.pickle'\n",
    "sub_names_dict['adjacency_name'] = 'sampled_adjacency.pickle'\n",
    "sub_names_dict['labels_name'] = 'sampled_labels.pickle'"
   ]
  },
  {
   "cell_type": "markdown",
   "metadata": {},
   "source": [
    "## Settings for Re-processing the Intermediate Files of Subset"
   ]
  },
  {
   "cell_type": "code",
   "execution_count": null,
   "metadata": {},
   "outputs": [],
   "source": [
    "sub_redo_dict = {}\n",
    "sub_redo_dict['core_nodes_redo'] = False\n",
    "sub_redo_dict['feature_redo'] = False\n",
    "sub_redo_dict['adjacency_redo'] = False\n",
    "sub_redo_dict['label_redo'] = False"
   ]
  },
  {
   "cell_type": "markdown",
   "metadata": {},
   "source": [
    "## Dictionary of Functions for Generating Features, Adjacency, Label"
   ]
  },
  {
   "cell_type": "code",
   "execution_count": null,
   "metadata": {},
   "outputs": [],
   "source": [
    "sub_functions_dict = {}\n",
    "sub_functions_dict['feature'] = 'gen_multihotfeatures'\n",
    "sub_functions_dict['adjacency'] = 'gen_adjacency_diag_norm'\n",
    "sub_functions_dict['label'] = 'gen_labels_idxs'\n",
    "sub_functions_dict['sampling'] = 'sample_nodes_balanced_replaced'"
   ]
  },
  {
   "cell_type": "markdown",
   "metadata": {},
   "source": [
    "## Settings for Splitting Train, Dev, Test"
   ]
  },
  {
   "cell_type": "code",
   "execution_count": null,
   "metadata": {},
   "outputs": [],
   "source": [
    "split_ratio_dict = {}\n",
    "split_ratio_dict['test'] = .8\n",
    "split_ratio_dict['dev'] = .8"
   ]
  },
  {
   "cell_type": "markdown",
   "metadata": {},
   "source": [
    "## Settings for Sampling Parameters"
   ]
  },
  {
   "cell_type": "code",
   "execution_count": null,
   "metadata": {},
   "outputs": [],
   "source": [
    "sampling_params = {}\n",
    "sampling_params['num_per_core'] = 100\n",
    "sampling_params['target_grades'] = list(range(4,15))"
   ]
  },
  {
   "cell_type": "markdown",
   "metadata": {},
   "source": [
    "## Settings for Dense Model"
   ]
  },
  {
   "cell_type": "code",
   "execution_count": null,
   "metadata": {},
   "outputs": [],
   "source": [
    "dense_params = {}\n",
    "dense_params['on'] = False\n",
    "dense_params['hidden'] = [32]\n",
    "dense_params['dropout'] = 0.2\n",
    "dense_params['lr'] = .01\n",
    "dense_params['weight_decay'] = 5e-4\n",
    "dense_params['num_epochs'] = 5"
   ]
  },
  {
   "cell_type": "markdown",
   "metadata": {},
   "source": [
    "## Settings for GCN Model"
   ]
  },
  {
   "cell_type": "code",
   "execution_count": null,
   "metadata": {},
   "outputs": [],
   "source": [
    "gcn_params = {}\n",
    "gcn_params['on'] = True\n",
    "gcn_params['hidden'] = [32]\n",
    "gcn_params['dropout'] = 0.2\n",
    "gcn_params['lr'] = .01\n",
    "gcn_params['weight_decay'] = 5e-4\n",
    "gcn_params['num_epochs'] = 50"
   ]
  },
  {
   "cell_type": "markdown",
   "metadata": {},
   "source": [
    "## Save all parameters"
   ]
  },
  {
   "cell_type": "code",
   "execution_count": null,
   "metadata": {},
   "outputs": [],
   "source": [
    "all_dicts = {}\n",
    "all_dicts['gen_params'] = gen_params\n",
    "all_dicts['full_names_dict'] = full_names_dict\n",
    "all_dicts['full_redo_dict'] = full_redo_dict\n",
    "all_dicts['sub_names_dict'] = sub_names_dict\n",
    "all_dicts['sub_redo_dict'] = sub_redo_dict\n",
    "all_dicts['sub_functions_dict'] = sub_functions_dict\n",
    "all_dicts['split_ratio_dict'] = split_ratio_dict\n",
    "all_dicts['gcn_params'] = gcn_params\n",
    "all_dicts['dense_params'] = dense_params\n",
    "all_dicts['sampling_params'] = sampling_params"
   ]
  },
  {
   "cell_type": "code",
   "execution_count": null,
   "metadata": {},
   "outputs": [],
   "source": [
    "with open(save_path, \"w\") as write_file:\n",
    "    json.dump(all_dicts, write_file)"
   ]
  },
  {
   "cell_type": "code",
   "execution_count": null,
   "metadata": {},
   "outputs": [],
   "source": []
  }
 ],
 "metadata": {
  "kernelspec": {
   "display_name": "Python 3",
   "language": "python",
   "name": "python3"
  },
  "language_info": {
   "codemirror_mode": {
    "name": "ipython",
    "version": 3
   },
   "file_extension": ".py",
   "mimetype": "text/x-python",
   "name": "python",
   "nbconvert_exporter": "python",
   "pygments_lexer": "ipython3",
   "version": "3.6.8"
  }
 },
 "nbformat": 4,
 "nbformat_minor": 2
}
