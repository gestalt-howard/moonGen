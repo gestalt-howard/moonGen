{
 "cells": [
  {
   "cell_type": "markdown",
   "metadata": {},
   "source": [
    "# Running Neural Networks\n",
    "\n",
    "This notebook loads scripts for defining a neural network experiment and running it. Parameters that define an experiment include:\n",
    "* `model_type`: A descriptive tag for a family of experiments (i.e. GCN, Dense)\n",
    "* `version`: A descriptive sub-tag for a member of a family of experiments\n",
    "* `data_dir`: Main storage location for experiment data\n",
    "* `result_dir`: Main storage location for experiment outputs and evaluations\n",
    "* `feature_func`: String name of a feature-processing function\n",
    "* `adjacency_func`: String name of an adjacency-defining function\n",
    "* `num_per_class`: Number of samples per class\n",
    "* `hidden_layers`: List of hidden layers to use in experiments\n",
    "* `num_epochs`"
   ]
  },
  {
   "cell_type": "code",
   "execution_count": null,
   "metadata": {},
   "outputs": [],
   "source": [
    "import sys\n",
    "sys.path.append('C:/Users/chetai/Documents/Projects/moonGen/')\n",
    "\n",
    "import pdb\n",
    "import pickle\n",
    "import numpy as np\n",
    "\n",
    "# Neural network structure imports\n",
    "from scripts.pytorch.run_pytorch_models import *"
   ]
  },
  {
   "cell_type": "markdown",
   "metadata": {},
   "source": [
    "## Setup Experiment"
   ]
  },
  {
   "cell_type": "code",
   "execution_count": null,
   "metadata": {},
   "outputs": [],
   "source": [
    "exp_dict = {\n",
    "    'model_type': 'GCN',\n",
    "    'version': 'v1',\n",
    "    'data_dir': 'C:/Users/chetai/Desktop/moonboard_data/',\n",
    "    'result_dir': 'C:/Users/chetai/Desktop/moonboard_results/',\n",
    "    'feature_func': 'gen_multihotfeatures',\n",
    "    'adjacency_func': 'gen_adjacency_diag_norm',\n",
    "    'num_per_class': 100,\n",
    "    'hidden_layers': [32],\n",
    "    'num_epochs': 50\n",
    "}\n",
    "params = setup_experiment(**exp_dict)"
   ]
  },
  {
   "cell_type": "markdown",
   "metadata": {},
   "source": [
    "## Run and Evaluate Neural Network"
   ]
  },
  {
   "cell_type": "code",
   "execution_count": null,
   "metadata": {
    "scrolled": true
   },
   "outputs": [],
   "source": [
    "run_experiment(params)"
   ]
  },
  {
   "cell_type": "code",
   "execution_count": null,
   "metadata": {},
   "outputs": [],
   "source": []
  }
 ],
 "metadata": {
  "kernelspec": {
   "display_name": "Python 3",
   "language": "python",
   "name": "python3"
  },
  "language_info": {
   "codemirror_mode": {
    "name": "ipython",
    "version": 3
   },
   "file_extension": ".py",
   "mimetype": "text/x-python",
   "name": "python",
   "nbconvert_exporter": "python",
   "pygments_lexer": "ipython3",
   "version": "3.6.8"
  }
 },
 "nbformat": 4,
 "nbformat_minor": 2
}
