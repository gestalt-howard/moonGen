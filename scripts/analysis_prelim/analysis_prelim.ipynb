{
 "cells": [
  {
   "cell_type": "markdown",
   "metadata": {},
   "source": [
    "# Preliminary Analysis"
   ]
  },
  {
   "cell_type": "code",
   "execution_count": null,
   "metadata": {},
   "outputs": [],
   "source": [
    "import sys\n",
    "sys.path.append('C:/Users/chetai/Documents/Projects/moonGen/')\n",
    "\n",
    "import os\n",
    "import pickle\n",
    "\n",
    "import numpy as np\n",
    "import pandas as pd\n",
    "import matplotlib.pyplot as plt\n",
    "\n",
    "from IPython.display import display\n",
    "\n",
    "from sklearn.manifold import TSNE\n",
    "from sklearn.decomposition import PCA\n",
    "\n",
    "from scripts.evaluation.eval_utils import get_difficulty_map, load_pickle"
   ]
  },
  {
   "cell_type": "markdown",
   "metadata": {},
   "source": [
    "## Load and Parse Data"
   ]
  },
  {
   "cell_type": "code",
   "execution_count": null,
   "metadata": {},
   "outputs": [],
   "source": [
    "root_path = 'C:/Users/chetai/Desktop/'\n",
    "\n",
    "data_path = root_path + 'moonboard_data.pickle'\n",
    "data = load_pickle(data_path)\n",
    "\n",
    "print('Number of problems:', len(data))"
   ]
  },
  {
   "cell_type": "code",
   "execution_count": null,
   "metadata": {},
   "outputs": [],
   "source": [
    "# Parse raw data\n",
    "NUM_ROWS = 18\n",
    "NUM_COLS = 11\n",
    "\n",
    "problem_ids = sorted(list(data.keys()))\n",
    "\n",
    "# Placeholders\n",
    "multi_hot_corpus = np.zeros((len(problem_ids), NUM_ROWS*NUM_COLS))\n",
    "problem_labels = []\n",
    "\n",
    "# Conversion map between difficulty indexes and grading scales\n",
    "difficulty_map = get_difficulty_map()\n",
    "\n",
    "# Iterate through problems\n",
    "for i, pid in enumerate(problem_ids):\n",
    "    problem_labels.append(difficulty_map[data[pid]['grade']]['v_scale'])\n",
    "    \n",
    "    holds_list = data[pid]['start'] + data[pid]['mid'] + data[pid]['end']\n",
    "    for hold in holds_list:\n",
    "        j = NUM_COLS*hold[0] + hold[1]\n",
    "        multi_hot_corpus[i][j] = 1\n",
    "problem_labels = np.asarray(problem_labels)\n",
    "        \n",
    "print(multi_hot_corpus.shape)\n",
    "print(problem_labels.shape)"
   ]
  },
  {
   "cell_type": "code",
   "execution_count": null,
   "metadata": {},
   "outputs": [],
   "source": [
    "display(data[problem_ids[1]])"
   ]
  },
  {
   "cell_type": "markdown",
   "metadata": {},
   "source": [
    "## Get Some Statistics"
   ]
  },
  {
   "cell_type": "code",
   "execution_count": null,
   "metadata": {},
   "outputs": [],
   "source": [
    "# Count of labels\n",
    "counts = pd.Series(problem_labels).value_counts()\n",
    "percents = pd.Series(problem_labels).value_counts(normalize=True)\n",
    "\n",
    "counts = pd.DataFrame(counts, columns=['Counts'])\n",
    "percents = pd.DataFrame(percents, columns=['Percentage'])\n",
    "stats = counts.join(percents)\n",
    "\n",
    "stats.reset_index(inplace=True)\n",
    "stats.rename({'index': 'Label'}, axis='columns', inplace=True)\n",
    "stats"
   ]
  },
  {
   "cell_type": "markdown",
   "metadata": {},
   "source": [
    "## TSNE / PCA Visualization"
   ]
  },
  {
   "cell_type": "code",
   "execution_count": null,
   "metadata": {},
   "outputs": [],
   "source": [
    "sample_idx = np.random.permutation(problem_labels.shape[0])[:3000]\n",
    "\n",
    "problem_labels_samp = problem_labels[sample_idx]\n",
    "mhot_samp = multi_hot_corpus[sample_idx]"
   ]
  },
  {
   "cell_type": "code",
   "execution_count": null,
   "metadata": {},
   "outputs": [],
   "source": [
    "pca_mod = PCA(n_components=2, random_state=7)\n",
    "\n",
    "x_pca = pca_mod.fit_transform(mhot_samp)\n",
    "print(x_pca.shape)"
   ]
  },
  {
   "cell_type": "code",
   "execution_count": null,
   "metadata": {
    "scrolled": true
   },
   "outputs": [],
   "source": [
    "tsne_mod = TSNE(\n",
    "    n_components=2, \n",
    "    perplexity=10, \n",
    "    learning_rate=100,\n",
    "    early_exaggeration=12,\n",
    "    n_iter=2000,\n",
    "    n_iter_without_progress=300,\n",
    "    init='pca',\n",
    "    verbose=2,\n",
    "    random_state=7, \n",
    "    n_jobs=-1\n",
    ")\n",
    "\n",
    "x_tsne = tsne_mod.fit_transform(mhot_samp)\n",
    "print(x_tsne.shape)"
   ]
  },
  {
   "cell_type": "code",
   "execution_count": null,
   "metadata": {},
   "outputs": [],
   "source": [
    "# Plot PCA visualization\n",
    "tcomp1 = x_pca[:, 0]\n",
    "tcomp2 = x_pca[:, 1]\n",
    "\n",
    "plt.figure(figsize=(10, 10))\n",
    "\n",
    "for label in np.unique(problem_labels_samp):\n",
    "    s_idx = np.where(problem_labels_samp == label)[0]\n",
    "    s_tcomp1 = tcomp1[s_idx]\n",
    "    s_tcomp2 = tcomp2[s_idx]\n",
    "    \n",
    "    plt.scatter(s_tcomp1, s_tcomp2, s=6, alpha=0.8, label=label)\n",
    "\n",
    "plt.title('MoonBoard Problems PCA Visualization')\n",
    "plt.xlabel('PCA Component 1')\n",
    "plt.ylabel('PCA Component 2')\n",
    "\n",
    "plt.savefig(root_path + 'pca_visual.png')\n",
    "plt.show()\n",
    "plt.close()"
   ]
  },
  {
   "cell_type": "code",
   "execution_count": null,
   "metadata": {},
   "outputs": [],
   "source": [
    "# Plot TSNE visualization\n",
    "tcomp1 = x_tsne[:, 0]\n",
    "tcomp2 = x_tsne[:, 1]\n",
    "\n",
    "plt.figure(figsize=(10, 10))\n",
    "\n",
    "for label in np.unique(problem_labels_samp):\n",
    "    s_idx = np.where(problem_labels_samp == label)[0]\n",
    "    s_tcomp1 = tcomp1[s_idx]\n",
    "    s_tcomp2 = tcomp2[s_idx]\n",
    "    \n",
    "    plt.scatter(s_tcomp1, s_tcomp2, s=6, alpha=0.8, label=label)\n",
    "\n",
    "plt.title('MoonBoard Problems TSNE Visualization')\n",
    "plt.xlabel('TSNE Component 1')\n",
    "plt.ylabel('TSNE Component 2')\n",
    "\n",
    "plt.savefig(root_path + 'tsne_visual.png')\n",
    "plt.show()\n",
    "plt.close()"
   ]
  },
  {
   "cell_type": "code",
   "execution_count": null,
   "metadata": {},
   "outputs": [],
   "source": []
  }
 ],
 "metadata": {
  "kernelspec": {
   "display_name": "Python 3",
   "language": "python",
   "name": "python3"
  },
  "language_info": {
   "codemirror_mode": {
    "name": "ipython",
    "version": 3
   },
   "file_extension": ".py",
   "mimetype": "text/x-python",
   "name": "python",
   "nbconvert_exporter": "python",
   "pygments_lexer": "ipython3",
   "version": "3.6.10"
  }
 },
 "nbformat": 4,
 "nbformat_minor": 4
}
