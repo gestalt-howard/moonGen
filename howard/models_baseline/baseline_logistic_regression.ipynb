{
 "cells": [
  {
   "cell_type": "markdown",
   "metadata": {},
   "source": [
    "# Baseline Model: Logistic Regression"
   ]
  },
  {
   "cell_type": "code",
   "execution_count": null,
   "metadata": {},
   "outputs": [],
   "source": [
    "import os\n",
    "import pdb\n",
    "\n",
    "from sklearn.linear_model import LogisticRegression\n",
    "\n",
    "from model_utils.evaluation_tools import *\n",
    "\n",
    "from model_utils.utils import load_pickle, save_pickle\n",
    "from model_utils.utils import load_trn_tst_dicts"
   ]
  },
  {
   "cell_type": "markdown",
   "metadata": {},
   "source": [
    "## Load Data"
   ]
  },
  {
   "cell_type": "code",
   "execution_count": null,
   "metadata": {},
   "outputs": [],
   "source": [
    "moon_root = 'C:/Users/chetai/Documents/Projects/data/moonGen/'\n",
    "data_root = moon_root + 'processed_data/'\n",
    "\n",
    "trn_dict, tst_dict = load_trn_tst_dicts(data_root)\n",
    "\n",
    "print(trn_dict.keys())"
   ]
  },
  {
   "cell_type": "code",
   "execution_count": null,
   "metadata": {},
   "outputs": [],
   "source": [
    "print('Data shape:', trn_dict['data'].shape)\n",
    "print('Label shape:', trn_dict['labels'].shape)\n",
    "print('Label shape (array):', trn_dict['array'].shape)"
   ]
  },
  {
   "cell_type": "code",
   "execution_count": null,
   "metadata": {},
   "outputs": [],
   "source": [
    "x_trn = trn_dict['data']\n",
    "x_tst = tst_dict['data']\n",
    "\n",
    "y_trn = trn_dict['labels']\n",
    "\n",
    "y_trn_array = trn_dict['array']\n",
    "y_tst_array = tst_dict['array']"
   ]
  },
  {
   "cell_type": "markdown",
   "metadata": {},
   "source": [
    "## Train Model"
   ]
  },
  {
   "cell_type": "code",
   "execution_count": null,
   "metadata": {},
   "outputs": [],
   "source": [
    "lr_params = {\n",
    "    'penalty': 'l2',\n",
    "    'C': 10,  # Inverse of regularization weight\n",
    "    'verbose': 1,\n",
    "    'n_jobs': -1,\n",
    "    'random_state': 7\n",
    "}\n",
    "model = LogisticRegression(**lr_params)"
   ]
  },
  {
   "cell_type": "code",
   "execution_count": null,
   "metadata": {},
   "outputs": [],
   "source": [
    "model.fit(x_trn, y_trn)"
   ]
  },
  {
   "cell_type": "code",
   "execution_count": null,
   "metadata": {},
   "outputs": [],
   "source": [
    "y_pred_trn = model.predict_proba(x_trn)\n",
    "y_pred_tst = model.predict_proba(x_tst)\n",
    "print(y_pred_trn.shape)\n",
    "print(y_pred_tst.shape)"
   ]
  },
  {
   "cell_type": "markdown",
   "metadata": {},
   "source": [
    "## Evaluate"
   ]
  },
  {
   "cell_type": "code",
   "execution_count": null,
   "metadata": {},
   "outputs": [],
   "source": [
    "trn_out_root = moon_root + 'baseline_outputs/logistic_regression/train/'\n",
    "tst_out_root = moon_root + 'baseline_outputs/logistic_regression/test/'\n",
    "\n",
    "trn_settings = {\n",
    "    'description': 'Logistic Regression Train',\n",
    "    'corr_fig_save': trn_out_root + 'fig_correlation.png',\n",
    "    'farpa_fig_save': trn_out_root + 'fig_farpa.png',\n",
    "    'farpa_stats_save': trn_out_root + 'stats_farpa.pickle',\n",
    "    'confusion_fig_save': trn_out_root + 'fig_confusion.png',\n",
    "    'global_stats_save': trn_out_root + 'stats_global.pickle'\n",
    "}\n",
    "\n",
    "tst_settings = {\n",
    "    'description': 'Logistic Regression Test',\n",
    "    'corr_fig_save': tst_out_root + 'fig_correlation.png',\n",
    "    'farpa_fig_save': tst_out_root + 'fig_farpa.png',\n",
    "    'farpa_stats_save': tst_out_root + 'stats_farpa.pickle',\n",
    "    'confusion_fig_save': tst_out_root + 'fig_confusion.png',\n",
    "    'global_stats_save': tst_out_root + 'stats_global.pickle'\n",
    "}"
   ]
  },
  {
   "cell_type": "code",
   "execution_count": null,
   "metadata": {},
   "outputs": [],
   "source": [
    "# Train evaluation\n",
    "evaluate_predictions(y_trn_array, y_pred_trn, trn_settings)"
   ]
  },
  {
   "cell_type": "code",
   "execution_count": null,
   "metadata": {},
   "outputs": [],
   "source": [
    "# Test evaluation\n",
    "evaluate_predictions(y_tst_array, y_pred_tst, tst_settings)"
   ]
  },
  {
   "cell_type": "code",
   "execution_count": null,
   "metadata": {},
   "outputs": [],
   "source": []
  }
 ],
 "metadata": {
  "kernelspec": {
   "display_name": "Python 3",
   "language": "python",
   "name": "python3"
  },
  "language_info": {
   "codemirror_mode": {
    "name": "ipython",
    "version": 3
   },
   "file_extension": ".py",
   "mimetype": "text/x-python",
   "name": "python",
   "nbconvert_exporter": "python",
   "pygments_lexer": "ipython3",
   "version": "3.6.10"
  }
 },
 "nbformat": 4,
 "nbformat_minor": 4
}
