{
 "cells": [
  {
   "cell_type": "code",
   "execution_count": 2,
   "metadata": {},
   "outputs": [],
   "source": [
    "from PyPDF2 import PdfFileReader"
   ]
  },
  {
   "cell_type": "code",
   "execution_count": 3,
   "metadata": {},
   "outputs": [],
   "source": [
    "pdf_path = '/Users/aaronwu/Documents/misc/MoonBoard/data/assets/moonboard-holdsetups.pdf'"
   ]
  },
  {
   "cell_type": "code",
   "execution_count": 10,
   "metadata": {},
   "outputs": [],
   "source": [
    "file = open(pdf_path, 'rb')\n",
    "pdf = PdfFileReader(file)"
   ]
  },
  {
   "cell_type": "code",
   "execution_count": 14,
   "metadata": {},
   "outputs": [
    {
     "data": {
      "text/plain": [
       "'Original School Holds1 - H7 - SE2 - J14 - NW3 - K7 - N4 - D8 - N5 - A16 - NW6 - F6 - E7 - K6 - N8 - C9 - W9 - A10 - SW10 - I8 - N11 - K12 - N12 - A11 - SE13 - B7 - S14 - D16 - N15 - K10 - S16 - G16 - N17 - F8 - N18 - F15 - N19 - G7 - SW20 - H15 - NE21 - C12 - N22 - D6 - N23 - D3 - S24 - D13 - N25 - J11 - N26 - A13 - N27 - G11 - E28 - H18 - N29 - B4 - SW30 - K8 - N31 - C15 - NW32 - H9 - E33 - D10 - NW34 - H14 - W35 - I5 - N36 - I12 - SW37 - K13 - N38 - C7 - N39 - C18 - N40 - F9 - NHold Set A50 - C14 - N51 - D17 - N52 - D9 - NE53 - F7 - NW54 - F12 - E55 - G12 - NE56 - B11 - NW57 - J10 - NE58 - J2 - SE59 - E13 - N60 - I6 - NE61 - J9 - SE62 - F14 - NW63 - I13 - E64 - E10 - NW65 - F10 - NE66 - E15 - NW67 - B8 - N68 - A12 - E69 - I16 - NE70 - I11 - N71 - B16 - NW72 - E11 - N73 - H11 - W74 - E7 - S75 - D12 - N76 - J8 - N77 - B13 - NW78 - B9 - NE79 - C10 - NE80 - B3 - SW81 - G2 - N82 - G18 - W83 - I4 - NE84 - K11 - NW85 - A5 - N86 - K5 - N87 - K18 - W88 - G8 - N89 - F5 - N90 - G13 - N91 - E18 - N92 - J6 - S93 - D14 - N94 - C11 - W95 - C6 - S96 - F16 - S97 - D5 - NW98 - A15 - N99 - B18 - SEHold Set B100 - H16 - N101 - B15 - N102 - J12 - NE103 - J13 - N104 - K16 - N105 - F13 - NW106 - E16 - NW107 - I7 - NE108 - I15 - NW109 - I9 - SE110 - E12 - NE111 - H5 - NW112 - G15 - NW113 - J7 - N114 - H12 - NW115 - G17 - N116 - E9 - NE117 - J16 - E118 - F11 - NE119 - D11 - SW120 - I10 - N121 - K9 - N122 - E8 - N123 - A14 - NW124 - I14 - NW125 - C5 - N126 - D15 - NW127 - E14 - E128 - G9 - NE129 - E6 - NW130 - J5 - NW131 - H8 - NE132 - I18 - NE133 - A9 - NW134 - G6 - SW135 - C8 - NW136 - D18 - N137 - G14 - E138 - C13 - NW139 - A18 - N140 - H10 - NE141 - G4 - N142 - B12 - SE143 - C16 - N144 - K14 - NE145 - G10 - NE146 - D7 - S147 - B6 - NW148 - B10 - SE149 - H13 - SW'"
      ]
     },
     "execution_count": 14,
     "metadata": {},
     "output_type": "execute_result"
    }
   ],
   "source": [
    "pdf.getPage(1).extractText()"
   ]
  },
  {
   "cell_type": "code",
   "execution_count": null,
   "metadata": {},
   "outputs": [],
   "source": []
  }
 ],
 "metadata": {
  "kernelspec": {
   "display_name": "Python 3",
   "language": "python",
   "name": "python3"
  },
  "language_info": {
   "codemirror_mode": {
    "name": "ipython",
    "version": 3
   },
   "file_extension": ".py",
   "mimetype": "text/x-python",
   "name": "python",
   "nbconvert_exporter": "python",
   "pygments_lexer": "ipython3",
   "version": "3.6.10"
  }
 },
 "nbformat": 4,
 "nbformat_minor": 2
}
