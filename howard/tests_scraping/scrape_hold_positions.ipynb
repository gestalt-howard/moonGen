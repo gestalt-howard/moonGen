{
 "cells": [
  {
   "cell_type": "markdown",
   "metadata": {},
   "source": [
    "# Scraping Hold Positions and Orientations"
   ]
  },
  {
   "cell_type": "code",
   "execution_count": 1,
   "metadata": {},
   "outputs": [],
   "source": [
    "import os\n",
    "import sys\n",
    "import pdb\n",
    "import time\n",
    "import pickle\n",
    "\n",
    "from moonboard_helper import *"
   ]
  },
  {
   "cell_type": "code",
   "execution_count": 2,
   "metadata": {},
   "outputs": [
    {
     "name": "stdout",
     "output_type": "stream",
     "text": [
      "{'username': 'howardclimbs', 'password': 'moonboard', 'driver_path': 'C:/Users/chetai/Documents/Projects/chromedriver.exe', 'save_path': 'C:/Users/chetai/Documents/Projects/data/moonGen/problems_dict.pickle', 'save_path_holds': 'C:/Users/chetai/Documents/Projects/data/moonGen/problems_dict_holds.pickle', 'save_path_failed': 'C:/Users/chetai/Documents/Projects/data/moonGen/failed_uids_dict.pickle', 'assets_path': 'C:/Users/chetai/Documents/Projects/data/moonGen/assets/'}\n"
     ]
    }
   ],
   "source": [
    "# Load credentials\n",
    "with open('./credentials.txt') as f:\n",
    "    flines = f.readlines()\n",
    "\n",
    "cred_dict = {s.split('-')[0].strip() : s.split('-')[1].strip() for s in flines}\n",
    "print(cred_dict)"
   ]
  },
  {
   "cell_type": "code",
   "execution_count": 25,
   "metadata": {},
   "outputs": [],
   "source": [
    "username = cred_dict['username']\n",
    "password = cred_dict['password']\n",
    "driver_path = cred_dict['driver_path']\n",
    "asset_path = cred_dict['asset_path']\n",
    "\n",
    "hold_setup_name = 'MoonBoard 2016'\n",
    "hold_set_names = ['Original School Holds',\n",
    "                  'Hold Set A',\n",
    "                  'Hold Set B']\n",
    "\n",
    "# Moonboard URLs\n",
    "moonboard_url = 'https://moonboard.com/'\n",
    "hold_setup_url = 'https://www.moonboard.com/HoldSetups/Index'\n",
    "\n",
    "scraped_path = parent_path + 'hold_positions.pickle'"
   ]
  },
  {
   "cell_type": "code",
   "execution_count": 26,
   "metadata": {},
   "outputs": [],
   "source": [
    "pos_map = pickle.load(open(pos_map_path,'rb'))"
   ]
  },
  {
   "cell_type": "code",
   "execution_count": 5,
   "metadata": {},
   "outputs": [],
   "source": [
    "driver = load_driver(executable_path=executable_path)\n",
    "loginMoonBoard(driver, url=url, username=username, password=password)\n",
    "time.sleep(.5)"
   ]
  },
  {
   "cell_type": "code",
   "execution_count": 6,
   "metadata": {},
   "outputs": [],
   "source": [
    "driver.get(hold_setup_url)\n",
    "time.sleep(.2)"
   ]
  },
  {
   "cell_type": "code",
   "execution_count": 7,
   "metadata": {},
   "outputs": [],
   "source": [
    "find_and_click(driver, 'option', attribute='', value=hold_setup_name, text=True)\n",
    "time.sleep(.2)"
   ]
  },
  {
   "cell_type": "code",
   "execution_count": 8,
   "metadata": {},
   "outputs": [],
   "source": [
    "# find_and_click(driver, 'a', attribute='aria-label', value='Expand')"
   ]
  },
  {
   "cell_type": "code",
   "execution_count": 9,
   "metadata": {},
   "outputs": [],
   "source": [
    "attr_dict = {'class':'k-icon k-i-expand',\n",
    "             'aria-label':'Expand',\n",
    "             'tabindex':'-1'}\n",
    "elems = get_elem_set(driver, 'a', attr_dict)"
   ]
  },
  {
   "cell_type": "code",
   "execution_count": 10,
   "metadata": {},
   "outputs": [],
   "source": [
    "for e in elems:\n",
    "    e.click()\n",
    "time.sleep(1)"
   ]
  },
  {
   "cell_type": "code",
   "execution_count": 11,
   "metadata": {},
   "outputs": [],
   "source": [
    "attr_dict = {'role':'row'}\n",
    "rows = get_elem_set(driver, 'tr', attr_dict)"
   ]
  },
  {
   "cell_type": "code",
   "execution_count": 31,
   "metadata": {},
   "outputs": [
    {
     "name": "stdout",
     "output_type": "stream",
     "text": [
      "Failed to find src\n",
      "Failed to find src\n",
      "Failed to find src\n",
      "Failed to find src\n",
      "Failed to find src\n",
      "Failed to find src\n",
      "Failed to find src\n"
     ]
    }
   ],
   "source": [
    "row_info_dict={}\n",
    "for i,row in enumerate(rows):\n",
    "    img_urls = find_element_attr(row, 'img', 'src') \n",
    "    if img_urls==None:\n",
    "        continue\n",
    "    info = find_element_text(row, 'td')\n",
    "    h = img_urls[0].split('/')[-1]\n",
    "    position = info[2]\n",
    "    position = [int(pos_map[position[0]]),int(position[1])]\n",
    "    row_info_dict[h] = {}\n",
    "    row_info_dict[h]['orientation'] = info[1]\n",
    "    row_info_dict[h]['position'] = position"
   ]
  },
  {
   "cell_type": "code",
   "execution_count": 32,
   "metadata": {},
   "outputs": [
    {
     "data": {
      "text/plain": [
       "{'h1.png': {'orientation': 'SE', 'position': [7, 7]},\n",
       " 'h2.png': {'orientation': 'NW', 'position': [9, 1]},\n",
       " 'h3.png': {'orientation': 'N', 'position': [10, 7]},\n",
       " 'h4.png': {'orientation': 'N', 'position': [3, 8]},\n",
       " 'h5.png': {'orientation': 'NW', 'position': [0, 1]},\n",
       " 'h6.png': {'orientation': 'E', 'position': [5, 6]},\n",
       " 'h7.png': {'orientation': 'N', 'position': [10, 6]},\n",
       " 'h8.png': {'orientation': 'W', 'position': [2, 9]},\n",
       " 'h9.png': {'orientation': 'SW', 'position': [0, 1]},\n",
       " 'h10.png': {'orientation': 'N', 'position': [8, 8]},\n",
       " 'h11.png': {'orientation': 'N', 'position': [10, 1]},\n",
       " 'h12.png': {'orientation': 'SE', 'position': [0, 1]},\n",
       " 'h13.png': {'orientation': 'S', 'position': [1, 7]},\n",
       " 'h14.png': {'orientation': 'N', 'position': [3, 1]},\n",
       " 'h15.png': {'orientation': 'S', 'position': [10, 1]},\n",
       " 'h16.png': {'orientation': 'N', 'position': [6, 1]},\n",
       " 'h17.png': {'orientation': 'N', 'position': [5, 8]},\n",
       " 'h18.png': {'orientation': 'N', 'position': [5, 1]},\n",
       " 'h19.png': {'orientation': 'SW', 'position': [6, 7]},\n",
       " 'h20.png': {'orientation': 'NE', 'position': [7, 1]},\n",
       " 'h21.png': {'orientation': 'N', 'position': [2, 1]},\n",
       " 'h22.png': {'orientation': 'N', 'position': [3, 6]},\n",
       " 'h23.png': {'orientation': 'S', 'position': [3, 3]},\n",
       " 'h24.png': {'orientation': 'N', 'position': [3, 1]},\n",
       " 'h25.png': {'orientation': 'N', 'position': [9, 1]},\n",
       " 'h26.png': {'orientation': 'N', 'position': [0, 1]},\n",
       " 'h27.png': {'orientation': 'E', 'position': [6, 1]},\n",
       " 'h28.png': {'orientation': 'N', 'position': [7, 1]},\n",
       " 'h29.png': {'orientation': 'SW', 'position': [1, 4]},\n",
       " 'h30.png': {'orientation': 'N', 'position': [10, 8]},\n",
       " 'h31.png': {'orientation': 'NW', 'position': [2, 1]},\n",
       " 'h32.png': {'orientation': 'E', 'position': [7, 9]},\n",
       " 'h33.png': {'orientation': 'NW', 'position': [3, 1]},\n",
       " 'h34.png': {'orientation': 'W', 'position': [7, 1]},\n",
       " 'h35.png': {'orientation': 'N', 'position': [8, 5]},\n",
       " 'h36.png': {'orientation': 'SW', 'position': [8, 1]},\n",
       " 'h37.png': {'orientation': 'N', 'position': [10, 1]},\n",
       " 'h38.png': {'orientation': 'N', 'position': [2, 7]},\n",
       " 'h39.png': {'orientation': 'N', 'position': [2, 1]},\n",
       " 'h40.png': {'orientation': 'N', 'position': [5, 9]},\n",
       " 'h50.png': {'orientation': 'N', 'position': [2, 1]},\n",
       " 'h51.png': {'orientation': 'N', 'position': [3, 1]},\n",
       " 'h52.png': {'orientation': 'NE', 'position': [3, 9]},\n",
       " 'h53.png': {'orientation': 'NW', 'position': [5, 7]},\n",
       " 'h54.png': {'orientation': 'E', 'position': [5, 1]},\n",
       " 'h55.png': {'orientation': 'NE', 'position': [6, 1]},\n",
       " 'h56.png': {'orientation': 'NW', 'position': [1, 1]},\n",
       " 'h57.png': {'orientation': 'NE', 'position': [9, 1]},\n",
       " 'h58.png': {'orientation': 'SE', 'position': [9, 2]},\n",
       " 'h59.png': {'orientation': 'N', 'position': [4, 1]},\n",
       " 'h60.png': {'orientation': 'NE', 'position': [8, 6]},\n",
       " 'h61.png': {'orientation': 'SE', 'position': [9, 9]},\n",
       " 'h62.png': {'orientation': 'NW', 'position': [5, 1]},\n",
       " 'h63.png': {'orientation': 'E', 'position': [8, 1]},\n",
       " 'h64.png': {'orientation': 'NW', 'position': [4, 1]},\n",
       " 'h65.png': {'orientation': 'NE', 'position': [5, 1]},\n",
       " 'h66.png': {'orientation': 'NW', 'position': [4, 1]},\n",
       " 'h67.png': {'orientation': 'N', 'position': [1, 8]},\n",
       " 'h68.png': {'orientation': 'E', 'position': [0, 1]},\n",
       " 'h69.png': {'orientation': 'NE', 'position': [8, 1]},\n",
       " 'h70.png': {'orientation': 'N', 'position': [8, 1]},\n",
       " 'h71.png': {'orientation': 'NW', 'position': [1, 1]},\n",
       " 'h72.png': {'orientation': 'N', 'position': [4, 1]},\n",
       " 'h73.png': {'orientation': 'W', 'position': [7, 1]},\n",
       " 'h74.png': {'orientation': 'S', 'position': [4, 7]},\n",
       " 'h75.png': {'orientation': 'N', 'position': [3, 1]},\n",
       " 'h76.png': {'orientation': 'N', 'position': [9, 8]},\n",
       " 'h77.png': {'orientation': 'NW', 'position': [1, 1]},\n",
       " 'h78.png': {'orientation': 'NE', 'position': [1, 9]},\n",
       " 'h79.png': {'orientation': 'NE', 'position': [2, 1]},\n",
       " 'h80.png': {'orientation': 'SW', 'position': [1, 3]},\n",
       " 'h81.png': {'orientation': 'N', 'position': [6, 2]},\n",
       " 'h82.png': {'orientation': 'W', 'position': [6, 1]},\n",
       " 'h83.png': {'orientation': 'NE', 'position': [8, 4]},\n",
       " 'h84.png': {'orientation': 'NW', 'position': [10, 1]},\n",
       " 'h85.png': {'orientation': 'N', 'position': [0, 5]},\n",
       " 'h86.png': {'orientation': 'N', 'position': [10, 5]},\n",
       " 'h87.png': {'orientation': 'W', 'position': [10, 1]},\n",
       " 'h88.png': {'orientation': 'N', 'position': [6, 8]},\n",
       " 'h89.png': {'orientation': 'N', 'position': [5, 5]},\n",
       " 'h90.png': {'orientation': 'N', 'position': [6, 1]},\n",
       " 'h91.png': {'orientation': 'N', 'position': [4, 1]},\n",
       " 'h92.png': {'orientation': 'S', 'position': [9, 6]},\n",
       " 'h93.png': {'orientation': 'N', 'position': [3, 1]},\n",
       " 'h94.png': {'orientation': 'W', 'position': [2, 1]},\n",
       " 'h95.png': {'orientation': 'S', 'position': [2, 6]},\n",
       " 'h96.png': {'orientation': 'S', 'position': [5, 1]},\n",
       " 'h97.png': {'orientation': 'NW', 'position': [3, 5]},\n",
       " 'h98.png': {'orientation': 'N', 'position': [0, 1]},\n",
       " 'h99.png': {'orientation': 'SE', 'position': [1, 1]},\n",
       " 'h100.png': {'orientation': 'N', 'position': [7, 1]},\n",
       " 'h101.png': {'orientation': 'N', 'position': [1, 1]},\n",
       " 'h102.png': {'orientation': 'NE', 'position': [9, 1]},\n",
       " 'h103.png': {'orientation': 'N', 'position': [9, 1]},\n",
       " 'h104.png': {'orientation': 'N', 'position': [10, 1]},\n",
       " 'h105.png': {'orientation': 'NW', 'position': [5, 1]},\n",
       " 'h106.png': {'orientation': 'NW', 'position': [4, 1]},\n",
       " 'h107.png': {'orientation': 'NE', 'position': [8, 7]},\n",
       " 'h108.png': {'orientation': 'NW', 'position': [8, 1]},\n",
       " 'h109.png': {'orientation': 'SE', 'position': [8, 9]},\n",
       " 'h110.png': {'orientation': 'NE', 'position': [4, 1]},\n",
       " 'h111.png': {'orientation': 'NW', 'position': [7, 5]},\n",
       " 'h112.png': {'orientation': 'NW', 'position': [6, 1]},\n",
       " 'h113.png': {'orientation': 'N', 'position': [9, 7]},\n",
       " 'h114.png': {'orientation': 'NW', 'position': [7, 1]},\n",
       " 'h115.png': {'orientation': 'N', 'position': [6, 1]},\n",
       " 'h116.png': {'orientation': 'NE', 'position': [4, 9]},\n",
       " 'h117.png': {'orientation': 'E', 'position': [9, 1]},\n",
       " 'h118.png': {'orientation': 'NE', 'position': [5, 1]},\n",
       " 'h119.png': {'orientation': 'SW', 'position': [3, 1]},\n",
       " 'h120.png': {'orientation': 'N', 'position': [8, 1]},\n",
       " 'h121.png': {'orientation': 'N', 'position': [10, 9]},\n",
       " 'h122.png': {'orientation': 'N', 'position': [4, 8]},\n",
       " 'h123.png': {'orientation': 'NW', 'position': [0, 1]},\n",
       " 'h124.png': {'orientation': 'NW', 'position': [8, 1]},\n",
       " 'h125.png': {'orientation': 'N', 'position': [2, 5]},\n",
       " 'h126.png': {'orientation': 'NW', 'position': [3, 1]},\n",
       " 'h127.png': {'orientation': 'E', 'position': [4, 1]},\n",
       " 'h128.png': {'orientation': 'NE', 'position': [6, 9]},\n",
       " 'h129.png': {'orientation': 'NW', 'position': [4, 6]},\n",
       " 'h130.png': {'orientation': 'NW', 'position': [9, 5]},\n",
       " 'h131.png': {'orientation': 'NE', 'position': [7, 8]},\n",
       " 'h132.png': {'orientation': 'NE', 'position': [8, 1]},\n",
       " 'h133.png': {'orientation': 'NW', 'position': [0, 9]},\n",
       " 'h134.png': {'orientation': 'SW', 'position': [6, 6]},\n",
       " 'h135.png': {'orientation': 'NW', 'position': [2, 8]},\n",
       " 'h136.png': {'orientation': 'N', 'position': [3, 1]},\n",
       " 'h137.png': {'orientation': 'E', 'position': [6, 1]},\n",
       " 'h138.png': {'orientation': 'NW', 'position': [2, 1]},\n",
       " 'h139.png': {'orientation': 'N', 'position': [0, 1]},\n",
       " 'h140.png': {'orientation': 'NE', 'position': [7, 1]},\n",
       " 'h141.png': {'orientation': 'N', 'position': [6, 4]},\n",
       " 'h142.png': {'orientation': 'SE', 'position': [1, 1]},\n",
       " 'h143.png': {'orientation': 'N', 'position': [2, 1]},\n",
       " 'h144.png': {'orientation': 'NE', 'position': [10, 1]},\n",
       " 'h145.png': {'orientation': 'NE', 'position': [6, 1]},\n",
       " 'h146.png': {'orientation': 'S', 'position': [3, 7]},\n",
       " 'h147.png': {'orientation': 'NW', 'position': [1, 6]},\n",
       " 'h148.png': {'orientation': 'SE', 'position': [1, 1]},\n",
       " 'h149.png': {'orientation': 'SW', 'position': [7, 1]}}"
      ]
     },
     "execution_count": 32,
     "metadata": {},
     "output_type": "execute_result"
    }
   ],
   "source": [
    "row_info_dict"
   ]
  },
  {
   "cell_type": "code",
   "execution_count": 33,
   "metadata": {},
   "outputs": [],
   "source": [
    "pickle.dump(row_info_dict, open(scraped_path,'wb'))"
   ]
  },
  {
   "cell_type": "code",
   "execution_count": null,
   "metadata": {},
   "outputs": [],
   "source": []
  }
 ],
 "metadata": {
  "kernelspec": {
   "display_name": "Python 3",
   "language": "python",
   "name": "python3"
  },
  "language_info": {
   "codemirror_mode": {
    "name": "ipython",
    "version": 3
   },
   "file_extension": ".py",
   "mimetype": "text/x-python",
   "name": "python",
   "nbconvert_exporter": "python",
   "pygments_lexer": "ipython3",
   "version": "3.6.10"
  }
 },
 "nbformat": 4,
 "nbformat_minor": 2
}
