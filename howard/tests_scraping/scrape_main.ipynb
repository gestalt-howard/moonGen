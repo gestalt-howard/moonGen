{
 "cells": [
  {
   "cell_type": "markdown",
   "metadata": {},
   "source": [
    "# Scraping MoonBoard Problems\n",
    "Scrapes MoonBoard problems from the MoonBoard site using an automated clicking routine defined via Selenium."
   ]
  },
  {
   "cell_type": "code",
   "execution_count": null,
   "metadata": {},
   "outputs": [],
   "source": [
    "import shutil\n",
    "\n",
    "from moonboard_helper import *"
   ]
  },
  {
   "cell_type": "code",
   "execution_count": null,
   "metadata": {},
   "outputs": [],
   "source": [
    "# Load credentials\n",
    "with open('./credentials.txt') as f:\n",
    "    flines = f.readlines()\n",
    "\n",
    "cred_dict = {s.split('-')[0].strip() : s.split('-')[1].strip() for s in flines}\n",
    "print(cred_dict)"
   ]
  },
  {
   "cell_type": "code",
   "execution_count": null,
   "metadata": {},
   "outputs": [],
   "source": [
    "username = cred_dict['username']\n",
    "password = cred_dict['password']\n",
    "driver_path = cred_dict['driver_path']\n",
    "save_path = cred_dict['save_path']\n",
    "save_path_holds = cred_dict['save_path_holds']\n",
    "save_path_failed = cred_dict['save_path_failed']\n",
    "\n",
    "moonboard_url = 'https://moonboard.com/'"
   ]
  },
  {
   "cell_type": "markdown",
   "metadata": {},
   "source": [
    "## Preliminary Scraping (Metadata)"
   ]
  },
  {
   "cell_type": "code",
   "execution_count": null,
   "metadata": {},
   "outputs": [],
   "source": [
    "# Load browser and login to MoonBoard\n",
    "browser = load_browser(driver_path)\n",
    "loginMoonBoard(browser, moonboard_url, username, password)"
   ]
  },
  {
   "cell_type": "code",
   "execution_count": null,
   "metadata": {},
   "outputs": [],
   "source": [
    "# Get problems view\n",
    "time.sleep(2)\n",
    "click_view_problems(browser)\n",
    "click_holdsetup(browser)"
   ]
  },
  {
   "cell_type": "code",
   "execution_count": null,
   "metadata": {
    "scrolled": true
   },
   "outputs": [],
   "source": [
    "# Process all pages\n",
    "problems_dict = process_all_pages(browser, save_path)"
   ]
  },
  {
   "cell_type": "code",
   "execution_count": null,
   "metadata": {},
   "outputs": [],
   "source": [
    "# Number of scraped problems\n",
    "print('Number of problems:', len(problems_dict))"
   ]
  },
  {
   "cell_type": "markdown",
   "metadata": {},
   "source": [
    "## Secondary Scraping (Problems)"
   ]
  },
  {
   "cell_type": "code",
   "execution_count": null,
   "metadata": {},
   "outputs": [],
   "source": [
    "# Copy problem dict\n",
    "if not os.path.exists(save_path_holds):\n",
    "    shutil.copyfile(save_path, save_path_holds)"
   ]
  },
  {
   "cell_type": "code",
   "execution_count": null,
   "metadata": {},
   "outputs": [],
   "source": [
    "# Failed uids\n",
    "if not os.path.exists(save_path_failed):\n",
    "    print('Creating failed uids dictionary...')\n",
    "    failed_uids_dict = {}\n",
    "    pickle.dump(failed_uids_dict, open(save_path_failed, 'wb'))\n",
    "else:\n",
    "    print('Loading failed uids dictionary...')\n",
    "    failed_uids_dict = pickle.load(open(save_path_failed, 'rb'))"
   ]
  },
  {
   "cell_type": "code",
   "execution_count": null,
   "metadata": {
    "scrolled": true
   },
   "outputs": [],
   "source": [
    "# Scrape specific problems\n",
    "holds_dict, failed_uids_dict = scrape_problems(\n",
    "    browser, \n",
    "    problems_dict, \n",
    "    save_path_holds, \n",
    "    failed_uids_dict, \n",
    "    save_path_failed\n",
    ")"
   ]
  },
  {
   "cell_type": "code",
   "execution_count": null,
   "metadata": {},
   "outputs": [],
   "source": []
  }
 ],
 "metadata": {
  "kernelspec": {
   "display_name": "Python 3",
   "language": "python",
   "name": "python3"
  },
  "language_info": {
   "codemirror_mode": {
    "name": "ipython",
    "version": 3
   },
   "file_extension": ".py",
   "mimetype": "text/x-python",
   "name": "python",
   "nbconvert_exporter": "python",
   "pygments_lexer": "ipython3",
   "version": "3.6.10"
  }
 },
 "nbformat": 4,
 "nbformat_minor": 4
}
